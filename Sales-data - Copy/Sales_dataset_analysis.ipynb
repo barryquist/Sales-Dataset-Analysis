{
 "cells": [
  {
   "cell_type": "markdown",
   "metadata": {},
   "source": [
    "# A Sales Dataset Analysis of a Retail outlet in the U.S."
   ]
  },
  {
   "cell_type": "markdown",
   "metadata": {},
   "source": [
    "## By Barry Quist"
   ]
  },
  {
   "cell_type": "markdown",
   "metadata": {},
   "source": [
    "### Questions for Analysing dataset\n",
    "1. What is the most and least expensive product?\n",
    "2. What are the best and worst sellers of the outlet for the year 2019?\n",
    "3. What is the sales trend of the outlet for 2019?\n",
    "4. Which cities had the most and least purchases?\n",
    "5. What is the distribution of products sold across these cities?\n",
    "6. What is the distribution of products sold across month?\n",
    "7. What time of the day were orders made most?\n",
    "8. What is the distribution of orders during the time of day across Month?\n",
    "9. What is the distribution of orders during the time of day across Cities?"
   ]
  },
  {
   "cell_type": "markdown",
   "metadata": {},
   "source": [
    "### GATHERING DATA"
   ]
  },
  {
   "cell_type": "code",
   "execution_count": 1,
   "metadata": {},
   "outputs": [],
   "source": [
    "# import libraries\n",
    "\n",
    "import pandas as pd\n",
    "import numpy as np\n",
    "import matplotlib.pyplot as plt\n",
    "import seaborn as sb\n",
    "import calendar\n",
    "\n",
    "%matplotlib inline"
   ]
  },
  {
   "cell_type": "code",
   "execution_count": 2,
   "metadata": {},
   "outputs": [],
   "source": [
    "# load dataset\n",
    "\n",
    "df_sales = pd.read_csv('sales_data.csv')"
   ]
  },
  {
   "cell_type": "markdown",
   "metadata": {},
   "source": [
    "## ASSESSING DATA"
   ]
  },
  {
   "cell_type": "code",
   "execution_count": 3,
   "metadata": {
    "scrolled": true
   },
   "outputs": [
    {
     "data": {
      "text/html": [
       "<div>\n",
       "<style scoped>\n",
       "    .dataframe tbody tr th:only-of-type {\n",
       "        vertical-align: middle;\n",
       "    }\n",
       "\n",
       "    .dataframe tbody tr th {\n",
       "        vertical-align: top;\n",
       "    }\n",
       "\n",
       "    .dataframe thead th {\n",
       "        text-align: right;\n",
       "    }\n",
       "</style>\n",
       "<table border=\"1\" class=\"dataframe\">\n",
       "  <thead>\n",
       "    <tr style=\"text-align: right;\">\n",
       "      <th></th>\n",
       "      <th>Unnamed: 0</th>\n",
       "      <th>Order ID</th>\n",
       "      <th>Product</th>\n",
       "      <th>Quantity Ordered</th>\n",
       "      <th>Price Each</th>\n",
       "      <th>Order Date</th>\n",
       "      <th>Purchase Address</th>\n",
       "      <th>Month</th>\n",
       "      <th>Sales</th>\n",
       "      <th>City</th>\n",
       "      <th>Hour</th>\n",
       "    </tr>\n",
       "  </thead>\n",
       "  <tbody>\n",
       "    <tr>\n",
       "      <th>0</th>\n",
       "      <td>0</td>\n",
       "      <td>295665</td>\n",
       "      <td>Macbook Pro Laptop</td>\n",
       "      <td>1</td>\n",
       "      <td>1700.00</td>\n",
       "      <td>2019-12-30 00:01:00</td>\n",
       "      <td>136 Church St, New York City, NY 10001</td>\n",
       "      <td>12</td>\n",
       "      <td>1700.00</td>\n",
       "      <td>New York City</td>\n",
       "      <td>0</td>\n",
       "    </tr>\n",
       "    <tr>\n",
       "      <th>1</th>\n",
       "      <td>1</td>\n",
       "      <td>295666</td>\n",
       "      <td>LG Washing Machine</td>\n",
       "      <td>1</td>\n",
       "      <td>600.00</td>\n",
       "      <td>2019-12-29 07:03:00</td>\n",
       "      <td>562 2nd St, New York City, NY 10001</td>\n",
       "      <td>12</td>\n",
       "      <td>600.00</td>\n",
       "      <td>New York City</td>\n",
       "      <td>7</td>\n",
       "    </tr>\n",
       "    <tr>\n",
       "      <th>2</th>\n",
       "      <td>2</td>\n",
       "      <td>295667</td>\n",
       "      <td>USB-C Charging Cable</td>\n",
       "      <td>1</td>\n",
       "      <td>11.95</td>\n",
       "      <td>2019-12-12 18:21:00</td>\n",
       "      <td>277 Main St, New York City, NY 10001</td>\n",
       "      <td>12</td>\n",
       "      <td>11.95</td>\n",
       "      <td>New York City</td>\n",
       "      <td>18</td>\n",
       "    </tr>\n",
       "    <tr>\n",
       "      <th>3</th>\n",
       "      <td>3</td>\n",
       "      <td>295668</td>\n",
       "      <td>27in FHD Monitor</td>\n",
       "      <td>1</td>\n",
       "      <td>149.99</td>\n",
       "      <td>2019-12-22 15:13:00</td>\n",
       "      <td>410 6th St, San Francisco, CA 94016</td>\n",
       "      <td>12</td>\n",
       "      <td>149.99</td>\n",
       "      <td>San Francisco</td>\n",
       "      <td>15</td>\n",
       "    </tr>\n",
       "    <tr>\n",
       "      <th>4</th>\n",
       "      <td>4</td>\n",
       "      <td>295669</td>\n",
       "      <td>USB-C Charging Cable</td>\n",
       "      <td>1</td>\n",
       "      <td>11.95</td>\n",
       "      <td>2019-12-18 12:38:00</td>\n",
       "      <td>43 Hill St, Atlanta, GA 30301</td>\n",
       "      <td>12</td>\n",
       "      <td>11.95</td>\n",
       "      <td>Atlanta</td>\n",
       "      <td>12</td>\n",
       "    </tr>\n",
       "  </tbody>\n",
       "</table>\n",
       "</div>"
      ],
      "text/plain": [
       "   Unnamed: 0  Order ID               Product  Quantity Ordered  Price Each  \\\n",
       "0           0    295665    Macbook Pro Laptop                 1     1700.00   \n",
       "1           1    295666    LG Washing Machine                 1      600.00   \n",
       "2           2    295667  USB-C Charging Cable                 1       11.95   \n",
       "3           3    295668      27in FHD Monitor                 1      149.99   \n",
       "4           4    295669  USB-C Charging Cable                 1       11.95   \n",
       "\n",
       "            Order Date                        Purchase Address  Month  \\\n",
       "0  2019-12-30 00:01:00  136 Church St, New York City, NY 10001     12   \n",
       "1  2019-12-29 07:03:00     562 2nd St, New York City, NY 10001     12   \n",
       "2  2019-12-12 18:21:00    277 Main St, New York City, NY 10001     12   \n",
       "3  2019-12-22 15:13:00     410 6th St, San Francisco, CA 94016     12   \n",
       "4  2019-12-18 12:38:00           43 Hill St, Atlanta, GA 30301     12   \n",
       "\n",
       "     Sales            City  Hour  \n",
       "0  1700.00   New York City     0  \n",
       "1   600.00   New York City     7  \n",
       "2    11.95   New York City    18  \n",
       "3   149.99   San Francisco    15  \n",
       "4    11.95         Atlanta    12  "
      ]
     },
     "execution_count": 3,
     "metadata": {},
     "output_type": "execute_result"
    }
   ],
   "source": [
    "df_sales.head()"
   ]
  },
  {
   "cell_type": "code",
   "execution_count": 4,
   "metadata": {},
   "outputs": [
    {
     "data": {
      "text/html": [
       "<div>\n",
       "<style scoped>\n",
       "    .dataframe tbody tr th:only-of-type {\n",
       "        vertical-align: middle;\n",
       "    }\n",
       "\n",
       "    .dataframe tbody tr th {\n",
       "        vertical-align: top;\n",
       "    }\n",
       "\n",
       "    .dataframe thead th {\n",
       "        text-align: right;\n",
       "    }\n",
       "</style>\n",
       "<table border=\"1\" class=\"dataframe\">\n",
       "  <thead>\n",
       "    <tr style=\"text-align: right;\">\n",
       "      <th></th>\n",
       "      <th>Unnamed: 0</th>\n",
       "      <th>Order ID</th>\n",
       "      <th>Quantity Ordered</th>\n",
       "      <th>Price Each</th>\n",
       "      <th>Month</th>\n",
       "      <th>Sales</th>\n",
       "      <th>Hour</th>\n",
       "    </tr>\n",
       "  </thead>\n",
       "  <tbody>\n",
       "    <tr>\n",
       "      <th>count</th>\n",
       "      <td>185950.000000</td>\n",
       "      <td>185950.000000</td>\n",
       "      <td>185950.000000</td>\n",
       "      <td>185950.000000</td>\n",
       "      <td>185950.000000</td>\n",
       "      <td>185950.000000</td>\n",
       "      <td>185950.000000</td>\n",
       "    </tr>\n",
       "    <tr>\n",
       "      <th>mean</th>\n",
       "      <td>8340.388475</td>\n",
       "      <td>230417.569379</td>\n",
       "      <td>1.124383</td>\n",
       "      <td>184.399735</td>\n",
       "      <td>7.059140</td>\n",
       "      <td>185.490917</td>\n",
       "      <td>14.413305</td>\n",
       "    </tr>\n",
       "    <tr>\n",
       "      <th>std</th>\n",
       "      <td>5450.554093</td>\n",
       "      <td>51512.737110</td>\n",
       "      <td>0.442793</td>\n",
       "      <td>332.731330</td>\n",
       "      <td>3.502996</td>\n",
       "      <td>332.919771</td>\n",
       "      <td>5.423416</td>\n",
       "    </tr>\n",
       "    <tr>\n",
       "      <th>min</th>\n",
       "      <td>0.000000</td>\n",
       "      <td>141234.000000</td>\n",
       "      <td>1.000000</td>\n",
       "      <td>2.990000</td>\n",
       "      <td>1.000000</td>\n",
       "      <td>2.990000</td>\n",
       "      <td>0.000000</td>\n",
       "    </tr>\n",
       "    <tr>\n",
       "      <th>25%</th>\n",
       "      <td>3894.000000</td>\n",
       "      <td>185831.250000</td>\n",
       "      <td>1.000000</td>\n",
       "      <td>11.950000</td>\n",
       "      <td>4.000000</td>\n",
       "      <td>11.950000</td>\n",
       "      <td>11.000000</td>\n",
       "    </tr>\n",
       "    <tr>\n",
       "      <th>50%</th>\n",
       "      <td>7786.000000</td>\n",
       "      <td>230367.500000</td>\n",
       "      <td>1.000000</td>\n",
       "      <td>14.950000</td>\n",
       "      <td>7.000000</td>\n",
       "      <td>14.950000</td>\n",
       "      <td>15.000000</td>\n",
       "    </tr>\n",
       "    <tr>\n",
       "      <th>75%</th>\n",
       "      <td>11872.000000</td>\n",
       "      <td>275035.750000</td>\n",
       "      <td>1.000000</td>\n",
       "      <td>150.000000</td>\n",
       "      <td>10.000000</td>\n",
       "      <td>150.000000</td>\n",
       "      <td>19.000000</td>\n",
       "    </tr>\n",
       "    <tr>\n",
       "      <th>max</th>\n",
       "      <td>25116.000000</td>\n",
       "      <td>319670.000000</td>\n",
       "      <td>9.000000</td>\n",
       "      <td>1700.000000</td>\n",
       "      <td>12.000000</td>\n",
       "      <td>3400.000000</td>\n",
       "      <td>23.000000</td>\n",
       "    </tr>\n",
       "  </tbody>\n",
       "</table>\n",
       "</div>"
      ],
      "text/plain": [
       "          Unnamed: 0       Order ID  Quantity Ordered     Price Each  \\\n",
       "count  185950.000000  185950.000000     185950.000000  185950.000000   \n",
       "mean     8340.388475  230417.569379          1.124383     184.399735   \n",
       "std      5450.554093   51512.737110          0.442793     332.731330   \n",
       "min         0.000000  141234.000000          1.000000       2.990000   \n",
       "25%      3894.000000  185831.250000          1.000000      11.950000   \n",
       "50%      7786.000000  230367.500000          1.000000      14.950000   \n",
       "75%     11872.000000  275035.750000          1.000000     150.000000   \n",
       "max     25116.000000  319670.000000          9.000000    1700.000000   \n",
       "\n",
       "               Month          Sales           Hour  \n",
       "count  185950.000000  185950.000000  185950.000000  \n",
       "mean        7.059140     185.490917      14.413305  \n",
       "std         3.502996     332.919771       5.423416  \n",
       "min         1.000000       2.990000       0.000000  \n",
       "25%         4.000000      11.950000      11.000000  \n",
       "50%         7.000000      14.950000      15.000000  \n",
       "75%        10.000000     150.000000      19.000000  \n",
       "max        12.000000    3400.000000      23.000000  "
      ]
     },
     "execution_count": 4,
     "metadata": {},
     "output_type": "execute_result"
    }
   ],
   "source": [
    "df_sales.describe()"
   ]
  },
  {
   "cell_type": "code",
   "execution_count": 5,
   "metadata": {},
   "outputs": [
    {
     "name": "stdout",
     "output_type": "stream",
     "text": [
      "<class 'pandas.core.frame.DataFrame'>\n",
      "RangeIndex: 185950 entries, 0 to 185949\n",
      "Data columns (total 11 columns):\n",
      " #   Column            Non-Null Count   Dtype  \n",
      "---  ------            --------------   -----  \n",
      " 0   Unnamed: 0        185950 non-null  int64  \n",
      " 1   Order ID          185950 non-null  int64  \n",
      " 2   Product           185950 non-null  object \n",
      " 3   Quantity Ordered  185950 non-null  int64  \n",
      " 4   Price Each        185950 non-null  float64\n",
      " 5   Order Date        185950 non-null  object \n",
      " 6   Purchase Address  185950 non-null  object \n",
      " 7   Month             185950 non-null  int64  \n",
      " 8   Sales             185950 non-null  float64\n",
      " 9   City              185950 non-null  object \n",
      " 10  Hour              185950 non-null  int64  \n",
      "dtypes: float64(2), int64(5), object(4)\n",
      "memory usage: 15.6+ MB\n"
     ]
    }
   ],
   "source": [
    "df_sales.info()"
   ]
  },
  {
   "cell_type": "code",
   "execution_count": 6,
   "metadata": {},
   "outputs": [
    {
     "data": {
      "text/plain": [
       "(185950, 11)"
      ]
     },
     "execution_count": 6,
     "metadata": {},
     "output_type": "execute_result"
    }
   ],
   "source": [
    "df_sales.shape\n"
   ]
  },
  {
   "cell_type": "code",
   "execution_count": 7,
   "metadata": {},
   "outputs": [
    {
     "data": {
      "text/plain": [
       "0"
      ]
     },
     "execution_count": 7,
     "metadata": {},
     "output_type": "execute_result"
    }
   ],
   "source": [
    "# check for duplicates\n",
    "\n",
    "sum(df_sales.duplicated())"
   ]
  },
  {
   "cell_type": "markdown",
   "metadata": {},
   "source": [
    "## CLEANING DATA"
   ]
  },
  {
   "cell_type": "code",
   "execution_count": 8,
   "metadata": {},
   "outputs": [],
   "source": [
    "# Make a copy of original dataset and work with copy\n",
    "df_sales_clean = df_sales.copy()"
   ]
  },
  {
   "cell_type": "code",
   "execution_count": 9,
   "metadata": {},
   "outputs": [
    {
     "name": "stdout",
     "output_type": "stream",
     "text": [
      "<class 'pandas.core.frame.DataFrame'>\n",
      "RangeIndex: 185950 entries, 0 to 185949\n",
      "Data columns (total 11 columns):\n",
      " #   Column            Non-Null Count   Dtype  \n",
      "---  ------            --------------   -----  \n",
      " 0   Unnamed: 0        185950 non-null  int64  \n",
      " 1   Order ID          185950 non-null  int64  \n",
      " 2   Product           185950 non-null  object \n",
      " 3   Quantity Ordered  185950 non-null  int64  \n",
      " 4   Price Each        185950 non-null  float64\n",
      " 5   Order Date        185950 non-null  object \n",
      " 6   Purchase Address  185950 non-null  object \n",
      " 7   Month             185950 non-null  int64  \n",
      " 8   Sales             185950 non-null  float64\n",
      " 9   City              185950 non-null  object \n",
      " 10  Hour              185950 non-null  int64  \n",
      "dtypes: float64(2), int64(5), object(4)\n",
      "memory usage: 15.6+ MB\n"
     ]
    }
   ],
   "source": [
    "df_sales_clean.info()"
   ]
  },
  {
   "cell_type": "code",
   "execution_count": 10,
   "metadata": {},
   "outputs": [],
   "source": [
    "# drop unnecessary columns\n",
    "x_columns = ['Unnamed: 0', 'Order ID']\n",
    "def drop_columns(cols, Dframe):\n",
    "    for col in cols:\n",
    "        Dframe.drop(columns=col, axis=1, inplace=True)\n",
    "        \n",
    "drop_columns(x_columns, df_sales_clean)"
   ]
  },
  {
   "cell_type": "code",
   "execution_count": 11,
   "metadata": {},
   "outputs": [
    {
     "name": "stdout",
     "output_type": "stream",
     "text": [
      "<class 'pandas.core.frame.DataFrame'>\n",
      "RangeIndex: 185950 entries, 0 to 185949\n",
      "Data columns (total 9 columns):\n",
      " #   Column            Non-Null Count   Dtype  \n",
      "---  ------            --------------   -----  \n",
      " 0   Product           185950 non-null  object \n",
      " 1   Quantity Ordered  185950 non-null  int64  \n",
      " 2   Price Each        185950 non-null  float64\n",
      " 3   Order Date        185950 non-null  object \n",
      " 4   Purchase Address  185950 non-null  object \n",
      " 5   Month             185950 non-null  int64  \n",
      " 6   Sales             185950 non-null  float64\n",
      " 7   City              185950 non-null  object \n",
      " 8   Hour              185950 non-null  int64  \n",
      "dtypes: float64(2), int64(3), object(4)\n",
      "memory usage: 12.8+ MB\n"
     ]
    }
   ],
   "source": [
    "# check if columns have been dropped\n",
    "df_sales_clean.info()"
   ]
  },
  {
   "cell_type": "code",
   "execution_count": 12,
   "metadata": {},
   "outputs": [],
   "source": [
    "# change values in Month column to reflect actual Month names\n",
    "df_sales_clean['Month'] = df_sales_clean['Month'].apply(lambda x: calendar.month_abbr[x])"
   ]
  },
  {
   "cell_type": "code",
   "execution_count": 13,
   "metadata": {},
   "outputs": [
    {
     "data": {
      "text/html": [
       "<div>\n",
       "<style scoped>\n",
       "    .dataframe tbody tr th:only-of-type {\n",
       "        vertical-align: middle;\n",
       "    }\n",
       "\n",
       "    .dataframe tbody tr th {\n",
       "        vertical-align: top;\n",
       "    }\n",
       "\n",
       "    .dataframe thead th {\n",
       "        text-align: right;\n",
       "    }\n",
       "</style>\n",
       "<table border=\"1\" class=\"dataframe\">\n",
       "  <thead>\n",
       "    <tr style=\"text-align: right;\">\n",
       "      <th></th>\n",
       "      <th>Product</th>\n",
       "      <th>Quantity Ordered</th>\n",
       "      <th>Price Each</th>\n",
       "      <th>Order Date</th>\n",
       "      <th>Purchase Address</th>\n",
       "      <th>Month</th>\n",
       "      <th>Sales</th>\n",
       "      <th>City</th>\n",
       "      <th>Hour</th>\n",
       "    </tr>\n",
       "  </thead>\n",
       "  <tbody>\n",
       "    <tr>\n",
       "      <th>18419</th>\n",
       "      <td>AAA Batteries (4-pack)</td>\n",
       "      <td>2</td>\n",
       "      <td>2.99</td>\n",
       "      <td>2019-12-18 13:55:00</td>\n",
       "      <td>595 8th St, New York City, NY 10001</td>\n",
       "      <td>Dec</td>\n",
       "      <td>5.98</td>\n",
       "      <td>New York City</td>\n",
       "      <td>13</td>\n",
       "    </tr>\n",
       "    <tr>\n",
       "      <th>173172</th>\n",
       "      <td>Macbook Pro Laptop</td>\n",
       "      <td>1</td>\n",
       "      <td>1700.00</td>\n",
       "      <td>2019-06-26 18:45:00</td>\n",
       "      <td>276 Meadow St, Portland, OR 97035</td>\n",
       "      <td>Jun</td>\n",
       "      <td>1700.00</td>\n",
       "      <td>Portland</td>\n",
       "      <td>18</td>\n",
       "    </tr>\n",
       "    <tr>\n",
       "      <th>134877</th>\n",
       "      <td>Bose SoundSport Headphones</td>\n",
       "      <td>1</td>\n",
       "      <td>99.99</td>\n",
       "      <td>2019-10-04 18:16:00</td>\n",
       "      <td>846 Forest St, Los Angeles, CA 90001</td>\n",
       "      <td>Oct</td>\n",
       "      <td>99.99</td>\n",
       "      <td>Los Angeles</td>\n",
       "      <td>18</td>\n",
       "    </tr>\n",
       "    <tr>\n",
       "      <th>73687</th>\n",
       "      <td>iPhone</td>\n",
       "      <td>1</td>\n",
       "      <td>700.00</td>\n",
       "      <td>2019-08-01 10:17:00</td>\n",
       "      <td>740 Church St, Atlanta, GA 30301</td>\n",
       "      <td>Aug</td>\n",
       "      <td>700.00</td>\n",
       "      <td>Atlanta</td>\n",
       "      <td>10</td>\n",
       "    </tr>\n",
       "    <tr>\n",
       "      <th>40308</th>\n",
       "      <td>20in Monitor</td>\n",
       "      <td>1</td>\n",
       "      <td>109.99</td>\n",
       "      <td>2019-04-21 13:49:00</td>\n",
       "      <td>796 1st St, Portland, OR 97035</td>\n",
       "      <td>Apr</td>\n",
       "      <td>109.99</td>\n",
       "      <td>Portland</td>\n",
       "      <td>13</td>\n",
       "    </tr>\n",
       "    <tr>\n",
       "      <th>4489</th>\n",
       "      <td>Bose SoundSport Headphones</td>\n",
       "      <td>1</td>\n",
       "      <td>99.99</td>\n",
       "      <td>2019-12-25 18:00:00</td>\n",
       "      <td>830 Walnut St, Los Angeles, CA 90001</td>\n",
       "      <td>Dec</td>\n",
       "      <td>99.99</td>\n",
       "      <td>Los Angeles</td>\n",
       "      <td>18</td>\n",
       "    </tr>\n",
       "    <tr>\n",
       "      <th>52303</th>\n",
       "      <td>Bose SoundSport Headphones</td>\n",
       "      <td>1</td>\n",
       "      <td>99.99</td>\n",
       "      <td>2019-02-07 10:25:00</td>\n",
       "      <td>959 6th St, Los Angeles, CA 90001</td>\n",
       "      <td>Feb</td>\n",
       "      <td>99.99</td>\n",
       "      <td>Los Angeles</td>\n",
       "      <td>10</td>\n",
       "    </tr>\n",
       "    <tr>\n",
       "      <th>59196</th>\n",
       "      <td>Lightning Charging Cable</td>\n",
       "      <td>1</td>\n",
       "      <td>14.95</td>\n",
       "      <td>2019-03-17 12:49:00</td>\n",
       "      <td>888 7th St, Austin, TX 73301</td>\n",
       "      <td>Mar</td>\n",
       "      <td>14.95</td>\n",
       "      <td>Austin</td>\n",
       "      <td>12</td>\n",
       "    </tr>\n",
       "    <tr>\n",
       "      <th>138894</th>\n",
       "      <td>AA Batteries (4-pack)</td>\n",
       "      <td>1</td>\n",
       "      <td>3.84</td>\n",
       "      <td>2019-01-21 08:56:00</td>\n",
       "      <td>630 Madison St, Atlanta, GA 30301</td>\n",
       "      <td>Jan</td>\n",
       "      <td>3.84</td>\n",
       "      <td>Atlanta</td>\n",
       "      <td>8</td>\n",
       "    </tr>\n",
       "    <tr>\n",
       "      <th>74339</th>\n",
       "      <td>Lightning Charging Cable</td>\n",
       "      <td>1</td>\n",
       "      <td>14.95</td>\n",
       "      <td>2019-08-10 08:21:00</td>\n",
       "      <td>959 Church St, Dallas, TX 75001</td>\n",
       "      <td>Aug</td>\n",
       "      <td>14.95</td>\n",
       "      <td>Dallas</td>\n",
       "      <td>8</td>\n",
       "    </tr>\n",
       "  </tbody>\n",
       "</table>\n",
       "</div>"
      ],
      "text/plain": [
       "                           Product  Quantity Ordered  Price Each  \\\n",
       "18419       AAA Batteries (4-pack)                 2        2.99   \n",
       "173172          Macbook Pro Laptop                 1     1700.00   \n",
       "134877  Bose SoundSport Headphones                 1       99.99   \n",
       "73687                       iPhone                 1      700.00   \n",
       "40308                 20in Monitor                 1      109.99   \n",
       "4489    Bose SoundSport Headphones                 1       99.99   \n",
       "52303   Bose SoundSport Headphones                 1       99.99   \n",
       "59196     Lightning Charging Cable                 1       14.95   \n",
       "138894       AA Batteries (4-pack)                 1        3.84   \n",
       "74339     Lightning Charging Cable                 1       14.95   \n",
       "\n",
       "                 Order Date                      Purchase Address Month  \\\n",
       "18419   2019-12-18 13:55:00   595 8th St, New York City, NY 10001   Dec   \n",
       "173172  2019-06-26 18:45:00     276 Meadow St, Portland, OR 97035   Jun   \n",
       "134877  2019-10-04 18:16:00  846 Forest St, Los Angeles, CA 90001   Oct   \n",
       "73687   2019-08-01 10:17:00      740 Church St, Atlanta, GA 30301   Aug   \n",
       "40308   2019-04-21 13:49:00        796 1st St, Portland, OR 97035   Apr   \n",
       "4489    2019-12-25 18:00:00  830 Walnut St, Los Angeles, CA 90001   Dec   \n",
       "52303   2019-02-07 10:25:00     959 6th St, Los Angeles, CA 90001   Feb   \n",
       "59196   2019-03-17 12:49:00          888 7th St, Austin, TX 73301   Mar   \n",
       "138894  2019-01-21 08:56:00     630 Madison St, Atlanta, GA 30301   Jan   \n",
       "74339   2019-08-10 08:21:00       959 Church St, Dallas, TX 75001   Aug   \n",
       "\n",
       "          Sales            City  Hour  \n",
       "18419      5.98   New York City    13  \n",
       "173172  1700.00        Portland    18  \n",
       "134877    99.99     Los Angeles    18  \n",
       "73687    700.00         Atlanta    10  \n",
       "40308    109.99        Portland    13  \n",
       "4489      99.99     Los Angeles    18  \n",
       "52303     99.99     Los Angeles    10  \n",
       "59196     14.95          Austin    12  \n",
       "138894     3.84         Atlanta     8  \n",
       "74339     14.95          Dallas     8  "
      ]
     },
     "execution_count": 13,
     "metadata": {},
     "output_type": "execute_result"
    }
   ],
   "source": [
    "df_sales_clean.sample(10)"
   ]
  },
  {
   "cell_type": "code",
   "execution_count": 14,
   "metadata": {},
   "outputs": [],
   "source": [
    "# Rename columns\n",
    "df_sales_clean.rename(columns = {'Order Date':'Order_Date','Purchase Address':'Purchase_Address',\n",
    "                                 'Quantity Ordered':'Quantity','Price Each':'Price'}, inplace=True)\n"
   ]
  },
  {
   "cell_type": "code",
   "execution_count": 15,
   "metadata": {},
   "outputs": [
    {
     "data": {
      "text/html": [
       "<div>\n",
       "<style scoped>\n",
       "    .dataframe tbody tr th:only-of-type {\n",
       "        vertical-align: middle;\n",
       "    }\n",
       "\n",
       "    .dataframe tbody tr th {\n",
       "        vertical-align: top;\n",
       "    }\n",
       "\n",
       "    .dataframe thead th {\n",
       "        text-align: right;\n",
       "    }\n",
       "</style>\n",
       "<table border=\"1\" class=\"dataframe\">\n",
       "  <thead>\n",
       "    <tr style=\"text-align: right;\">\n",
       "      <th></th>\n",
       "      <th>Product</th>\n",
       "      <th>Quantity</th>\n",
       "      <th>Price</th>\n",
       "      <th>Order_Date</th>\n",
       "      <th>Purchase_Address</th>\n",
       "      <th>Month</th>\n",
       "      <th>Sales</th>\n",
       "      <th>City</th>\n",
       "      <th>Hour</th>\n",
       "    </tr>\n",
       "  </thead>\n",
       "  <tbody>\n",
       "    <tr>\n",
       "      <th>185949</th>\n",
       "      <td>AAA Batteries (4-pack)</td>\n",
       "      <td>1</td>\n",
       "      <td>2.99</td>\n",
       "      <td>2019-06-25 14:33:00</td>\n",
       "      <td>209 11th St, Atlanta, GA 30301</td>\n",
       "      <td>Jun</td>\n",
       "      <td>2.99</td>\n",
       "      <td>Atlanta</td>\n",
       "      <td>14</td>\n",
       "    </tr>\n",
       "  </tbody>\n",
       "</table>\n",
       "</div>"
      ],
      "text/plain": [
       "                       Product  Quantity  Price           Order_Date  \\\n",
       "185949  AAA Batteries (4-pack)         1   2.99  2019-06-25 14:33:00   \n",
       "\n",
       "                      Purchase_Address Month  Sales      City  Hour  \n",
       "185949  209 11th St, Atlanta, GA 30301   Jun   2.99   Atlanta    14  "
      ]
     },
     "execution_count": 15,
     "metadata": {},
     "output_type": "execute_result"
    }
   ],
   "source": [
    "df_sales_clean.tail(1)"
   ]
  },
  {
   "cell_type": "code",
   "execution_count": 16,
   "metadata": {},
   "outputs": [],
   "source": [
    "# convert Order_Date column to datetime datatype\n",
    "df_sales_clean.Order_Date = pd.to_datetime(df_sales_clean.Order_Date)"
   ]
  },
  {
   "cell_type": "code",
   "execution_count": 17,
   "metadata": {},
   "outputs": [
    {
     "name": "stdout",
     "output_type": "stream",
     "text": [
      "<class 'pandas.core.frame.DataFrame'>\n",
      "RangeIndex: 185950 entries, 0 to 185949\n",
      "Data columns (total 9 columns):\n",
      " #   Column            Non-Null Count   Dtype         \n",
      "---  ------            --------------   -----         \n",
      " 0   Product           185950 non-null  object        \n",
      " 1   Quantity          185950 non-null  int64         \n",
      " 2   Price             185950 non-null  float64       \n",
      " 3   Order_Date        185950 non-null  datetime64[ns]\n",
      " 4   Purchase_Address  185950 non-null  object        \n",
      " 5   Month             185950 non-null  object        \n",
      " 6   Sales             185950 non-null  float64       \n",
      " 7   City              185950 non-null  object        \n",
      " 8   Hour              185950 non-null  int64         \n",
      "dtypes: datetime64[ns](1), float64(2), int64(2), object(4)\n",
      "memory usage: 12.8+ MB\n"
     ]
    }
   ],
   "source": [
    "df_sales_clean.info()"
   ]
  },
  {
   "cell_type": "code",
   "execution_count": 18,
   "metadata": {},
   "outputs": [
    {
     "data": {
      "text/plain": [
       "0                  Dawn\n",
       "1               Morning\n",
       "2         Evening/Night\n",
       "3             Afternoon\n",
       "4             Afternoon\n",
       "              ...      \n",
       "185945    Evening/Night\n",
       "185946    Evening/Night\n",
       "185947    Evening/Night\n",
       "185948    Evening/Night\n",
       "185949        Afternoon\n",
       "Name: Hour, Length: 185950, dtype: category\n",
       "Categories (4, object): ['Dawn' < 'Morning' < 'Afternoon' < 'Evening/Night']"
      ]
     },
     "execution_count": 18,
     "metadata": {},
     "output_type": "execute_result"
    }
   ],
   "source": [
    "# Categorizing the values in the Hour column by time of day (Dawn, Morning, Afternoon, Evening/Night)\n",
    "df_sales_clean['Hour'] = pd.cut(df_sales_clean['Hour'], bins=[0, 5.99, 11.99, 16.99, 23.99], right=False, labels=['Dawn','Morning', 'Afternoon', 'Evening/Night'])\n",
    "df_sales_clean['Hour']"
   ]
  },
  {
   "cell_type": "code",
   "execution_count": 19,
   "metadata": {},
   "outputs": [
    {
     "data": {
      "text/html": [
       "<div>\n",
       "<style scoped>\n",
       "    .dataframe tbody tr th:only-of-type {\n",
       "        vertical-align: middle;\n",
       "    }\n",
       "\n",
       "    .dataframe tbody tr th {\n",
       "        vertical-align: top;\n",
       "    }\n",
       "\n",
       "    .dataframe thead th {\n",
       "        text-align: right;\n",
       "    }\n",
       "</style>\n",
       "<table border=\"1\" class=\"dataframe\">\n",
       "  <thead>\n",
       "    <tr style=\"text-align: right;\">\n",
       "      <th></th>\n",
       "      <th>Product</th>\n",
       "      <th>Quantity</th>\n",
       "      <th>Price</th>\n",
       "      <th>Order_Date</th>\n",
       "      <th>Purchase_Address</th>\n",
       "      <th>Month</th>\n",
       "      <th>Sales</th>\n",
       "      <th>City</th>\n",
       "      <th>Hour</th>\n",
       "    </tr>\n",
       "  </thead>\n",
       "  <tbody>\n",
       "    <tr>\n",
       "      <th>137032</th>\n",
       "      <td>Bose SoundSport Headphones</td>\n",
       "      <td>1</td>\n",
       "      <td>99.99</td>\n",
       "      <td>2019-01-22 19:48:00</td>\n",
       "      <td>154 Jackson St, Boston, MA 02215</td>\n",
       "      <td>Jan</td>\n",
       "      <td>99.99</td>\n",
       "      <td>Boston</td>\n",
       "      <td>Evening/Night</td>\n",
       "    </tr>\n",
       "    <tr>\n",
       "      <th>4834</th>\n",
       "      <td>Wired Headphones</td>\n",
       "      <td>1</td>\n",
       "      <td>11.99</td>\n",
       "      <td>2019-12-19 20:51:00</td>\n",
       "      <td>525 Adams St, Atlanta, GA 30301</td>\n",
       "      <td>Dec</td>\n",
       "      <td>11.99</td>\n",
       "      <td>Atlanta</td>\n",
       "      <td>Evening/Night</td>\n",
       "    </tr>\n",
       "    <tr>\n",
       "      <th>119045</th>\n",
       "      <td>Wired Headphones</td>\n",
       "      <td>2</td>\n",
       "      <td>11.99</td>\n",
       "      <td>2019-10-20 10:39:00</td>\n",
       "      <td>180 Elm St, San Francisco, CA 94016</td>\n",
       "      <td>Oct</td>\n",
       "      <td>23.98</td>\n",
       "      <td>San Francisco</td>\n",
       "      <td>Morning</td>\n",
       "    </tr>\n",
       "    <tr>\n",
       "      <th>72700</th>\n",
       "      <td>USB-C Charging Cable</td>\n",
       "      <td>1</td>\n",
       "      <td>11.95</td>\n",
       "      <td>2019-08-31 21:21:00</td>\n",
       "      <td>922 Wilson St, San Francisco, CA 94016</td>\n",
       "      <td>Aug</td>\n",
       "      <td>11.95</td>\n",
       "      <td>San Francisco</td>\n",
       "      <td>Evening/Night</td>\n",
       "    </tr>\n",
       "    <tr>\n",
       "      <th>65546</th>\n",
       "      <td>34in Ultrawide Monitor</td>\n",
       "      <td>1</td>\n",
       "      <td>379.99</td>\n",
       "      <td>2019-03-23 08:10:00</td>\n",
       "      <td>883 North St, Atlanta, GA 30301</td>\n",
       "      <td>Mar</td>\n",
       "      <td>379.99</td>\n",
       "      <td>Atlanta</td>\n",
       "      <td>Morning</td>\n",
       "    </tr>\n",
       "  </tbody>\n",
       "</table>\n",
       "</div>"
      ],
      "text/plain": [
       "                           Product  Quantity   Price          Order_Date  \\\n",
       "137032  Bose SoundSport Headphones         1   99.99 2019-01-22 19:48:00   \n",
       "4834              Wired Headphones         1   11.99 2019-12-19 20:51:00   \n",
       "119045            Wired Headphones         2   11.99 2019-10-20 10:39:00   \n",
       "72700         USB-C Charging Cable         1   11.95 2019-08-31 21:21:00   \n",
       "65546       34in Ultrawide Monitor         1  379.99 2019-03-23 08:10:00   \n",
       "\n",
       "                              Purchase_Address Month   Sales            City  \\\n",
       "137032        154 Jackson St, Boston, MA 02215   Jan   99.99          Boston   \n",
       "4834           525 Adams St, Atlanta, GA 30301   Dec   11.99         Atlanta   \n",
       "119045     180 Elm St, San Francisco, CA 94016   Oct   23.98   San Francisco   \n",
       "72700   922 Wilson St, San Francisco, CA 94016   Aug   11.95   San Francisco   \n",
       "65546          883 North St, Atlanta, GA 30301   Mar  379.99         Atlanta   \n",
       "\n",
       "                 Hour  \n",
       "137032  Evening/Night  \n",
       "4834    Evening/Night  \n",
       "119045        Morning  \n",
       "72700   Evening/Night  \n",
       "65546         Morning  "
      ]
     },
     "execution_count": 19,
     "metadata": {},
     "output_type": "execute_result"
    }
   ],
   "source": [
    "df_sales_clean.sample(5)"
   ]
  },
  {
   "cell_type": "code",
   "execution_count": null,
   "metadata": {},
   "outputs": [],
   "source": []
  },
  {
   "cell_type": "markdown",
   "metadata": {},
   "source": [
    "## VISUALIZING DATA"
   ]
  },
  {
   "cell_type": "markdown",
   "metadata": {},
   "source": [
    "## Question 1: What is the most and least expensive product?"
   ]
  },
  {
   "cell_type": "code",
   "execution_count": 20,
   "metadata": {},
   "outputs": [
    {
     "data": {
      "image/png": "[encoded data removed]",
      "text/plain": [
       "<Figure size 1080x360 with 1 Axes>"
      ]
     },
     "metadata": {
      "needs_background": "light"
     },
     "output_type": "display_data"
    }
   ],
   "source": [
    "plt.figure(figsize=(15,5))\n",
    "x = sb.barplot(data = df_sales_clean, x = 'Product', y = 'Price')\n",
    "plt.title('Product vs Price')\n",
    "plt.xticks(rotation=90);"
   ]
  },
  {
   "cell_type": "markdown",
   "metadata": {},
   "source": [
    "### Observation\n",
    "- The Macbook Pro Laptop was the most expensive product in the outlet.\n",
    "- The AAA Batteries (4-pack) was the least expensive item in the outlet.\n"
   ]
  },
  {
   "cell_type": "code",
   "execution_count": null,
   "metadata": {},
   "outputs": [],
   "source": []
  },
  {
   "cell_type": "markdown",
   "metadata": {},
   "source": [
    "## Question 2: What are the best and worst sellers of the outlet for the year 2019?"
   ]
  },
  {
   "cell_type": "code",
   "execution_count": 21,
   "metadata": {},
   "outputs": [
    {
     "data": {
      "image/png": "[encoded data removed]",
      "text/plain": [
       "<Figure size 720x360 with 1 Axes>"
      ]
     },
     "metadata": {
      "needs_background": "light"
     },
     "output_type": "display_data"
    }
   ],
   "source": [
    "df_sales_clean.Product.value_counts().plot(kind='barh', figsize=(10,5))\n",
    "plt.title('Product Sales')\n",
    "plt.xlabel('Quantity sold')\n",
    "plt.ylabel('Product');"
   ]
  },
  {
   "cell_type": "markdown",
   "metadata": {},
   "source": [
    "### Observation\n",
    "- The USB-C charging cable was the most purchased product. \n",
    "- On the other hand, the LG Dryer was the least sold product."
   ]
  },
  {
   "cell_type": "code",
   "execution_count": null,
   "metadata": {},
   "outputs": [],
   "source": []
  },
  {
   "cell_type": "markdown",
   "metadata": {},
   "source": [
    "## Question 3: What is the sales trend of the outlet for 2019?"
   ]
  },
  {
   "cell_type": "code",
   "execution_count": 22,
   "metadata": {},
   "outputs": [
    {
     "data": {
      "text/plain": [
       "Dec    24984\n",
       "Oct    20282\n",
       "Apr    18279\n",
       "Nov    17573\n",
       "May    16566\n",
       "Mar    15153\n",
       "Jul    14293\n",
       "Jun    13554\n",
       "Feb    11975\n",
       "Aug    11961\n",
       "Sep    11621\n",
       "Jan     9709\n",
       "Name: Month, dtype: int64"
      ]
     },
     "execution_count": 22,
     "metadata": {},
     "output_type": "execute_result"
    }
   ],
   "source": [
    "df_sales_clean.Month.value_counts()"
   ]
  },
  {
   "cell_type": "code",
   "execution_count": 36,
   "metadata": {},
   "outputs": [
    {
     "data": {
      "image/png": "[encoded data removed]",
      "text/plain": [
       "<Figure size 720x360 with 1 Axes>"
      ]
     },
     "metadata": {
      "needs_background": "light"
     },
     "output_type": "display_data"
    }
   ],
   "source": [
    "order = ['Jan','Feb','Mar','Apr','May','Jun','Jul','Aug','Sep','Oct','Nov','Dec']\n",
    "base_color = sb.color_palette()[0]\n",
    "\n",
    "plt.figure(figsize=(10,5))\n",
    "sb.countplot(data=df_sales_clean, x='Month', color=base_color, order=order)\n",
    "plt.title('Monthly Sales')\n",
    "plt.xlabel('Month')\n",
    "plt.ylabel('Quantity sold');"
   ]
  },
  {
   "cell_type": "code",
   "execution_count": 65,
   "metadata": {},
   "outputs": [
    {
     "data": {
      "image/png": "[encoded data removed]",
      "text/plain": [
       "<Figure size 720x360 with 1 Axes>"
      ]
     },
     "metadata": {
      "needs_background": "light"
     },
     "output_type": "display_data"
    }
   ],
   "source": [
    "Quantity = [9707, 11975, 15153, 18279, 16566, 13554, 14293, 11961, 11621, 20282, 17573, 24984]\n",
    "Month = ['Jan', 'Feb', 'Mar', 'Apr', 'May', 'Jun', 'Jul', 'Aug', 'Sep', 'Oct', 'Nov', 'Dec']\n",
    "\n",
    "plt.figure(figsize=(10,5))\n",
    "plt.plot(Month, Quantity, marker='o')\n",
    "plt.title('Sales Trend')\n",
    "plt.xlabel('Month')\n",
    "plt.ylabel('Quantity sold')\n",
    "plt.grid(True)\n",
    "plt.show()"
   ]
  },
  {
   "cell_type": "markdown",
   "metadata": {},
   "source": [
    "### Observation\n",
    "- December had the most products sold. \n",
    "- January had the least number of products sold"
   ]
  },
  {
   "cell_type": "code",
   "execution_count": null,
   "metadata": {},
   "outputs": [],
   "source": []
  },
  {
   "cell_type": "markdown",
   "metadata": {},
   "source": [
    "## Question 4: Which cities had the most and least products purchased?"
   ]
  },
  {
   "cell_type": "code",
   "execution_count": 26,
   "metadata": {},
   "outputs": [
    {
     "data": {
      "image/png": "[encoded data removed]",
      "text/plain": [
       "<Figure size 1080x360 with 1 Axes>"
      ]
     },
     "metadata": {
      "needs_background": "light"
     },
     "output_type": "display_data"
    }
   ],
   "source": [
    "plt.figure(figsize=(15,5))\n",
    "sb.countplot(data=df_sales_clean, x='City')\n",
    "plt.ylabel('Quantity Sold')\n",
    "plt.title('Sales by City');"
   ]
  },
  {
   "cell_type": "markdown",
   "metadata": {},
   "source": [
    "### Observation\n",
    "- It is observed that San Francisco made the most purchases. \n",
    "- Contrary to this Austin made the least purchase of products from the outlet."
   ]
  },
  {
   "cell_type": "code",
   "execution_count": null,
   "metadata": {},
   "outputs": [],
   "source": []
  },
  {
   "cell_type": "markdown",
   "metadata": {},
   "source": [
    "## Question 5: What is the distribution of products sold across cities?"
   ]
  },
  {
   "cell_type": "code",
   "execution_count": 27,
   "metadata": {},
   "outputs": [
    {
     "data": {
      "image/png": "[encoded data removed]",
      "text/plain": [
       "<Figure size 1440x720 with 1 Axes>"
      ]
     },
     "metadata": {
      "needs_background": "light"
     },
     "output_type": "display_data"
    }
   ],
   "source": [
    "plt.figure(figsize=(20,10))\n",
    "sb.countplot(data = df_sales_clean, x = 'Product', hue = 'City')\n",
    "plt.ylabel('Quantity Sold')\n",
    "plt.title('Product by City')\n",
    "plt.xticks(rotation=90);"
   ]
  },
  {
   "cell_type": "markdown",
   "metadata": {},
   "source": [
    "### Observation\n",
    "- It is observed that San Francisco had the largest margins of all product purchases across all the cities. \n"
   ]
  },
  {
   "cell_type": "code",
   "execution_count": null,
   "metadata": {},
   "outputs": [],
   "source": []
  },
  {
   "cell_type": "markdown",
   "metadata": {},
   "source": [
    "## Question 6: What is the distribution of products sold across month?"
   ]
  },
  {
   "cell_type": "code",
   "execution_count": 28,
   "metadata": {},
   "outputs": [
    {
     "data": {
      "text/plain": [
       "Product       Month\n",
       "20in Monitor  Apr      388\n",
       "              Aug      258\n",
       "              Dec      567\n",
       "              Feb      245\n",
       "              Jan      215\n",
       "                      ... \n",
       "iPhone        Mar      537\n",
       "              May      640\n",
       "              Nov      664\n",
       "              Oct      715\n",
       "              Sep      396\n",
       "Length: 228, dtype: int64"
      ]
     },
     "execution_count": 28,
     "metadata": {},
     "output_type": "execute_result"
    }
   ],
   "source": [
    "# Use group_by() and size() to get the number of products and month as a pandas Series\n",
    "\n",
    "ct_counts = df_sales_clean.groupby(['Product', 'Month']).size()\n",
    "ct_counts"
   ]
  },
  {
   "cell_type": "code",
   "execution_count": 29,
   "metadata": {},
   "outputs": [
    {
     "data": {
      "text/html": [
       "<div>\n",
       "<style scoped>\n",
       "    .dataframe tbody tr th:only-of-type {\n",
       "        vertical-align: middle;\n",
       "    }\n",
       "\n",
       "    .dataframe tbody tr th {\n",
       "        vertical-align: top;\n",
       "    }\n",
       "\n",
       "    .dataframe thead th {\n",
       "        text-align: right;\n",
       "    }\n",
       "</style>\n",
       "<table border=\"1\" class=\"dataframe\">\n",
       "  <thead>\n",
       "    <tr style=\"text-align: right;\">\n",
       "      <th></th>\n",
       "      <th>Product</th>\n",
       "      <th>Month</th>\n",
       "      <th>count</th>\n",
       "    </tr>\n",
       "  </thead>\n",
       "  <tbody>\n",
       "    <tr>\n",
       "      <th>0</th>\n",
       "      <td>20in Monitor</td>\n",
       "      <td>Apr</td>\n",
       "      <td>388</td>\n",
       "    </tr>\n",
       "    <tr>\n",
       "      <th>1</th>\n",
       "      <td>20in Monitor</td>\n",
       "      <td>Aug</td>\n",
       "      <td>258</td>\n",
       "    </tr>\n",
       "    <tr>\n",
       "      <th>2</th>\n",
       "      <td>20in Monitor</td>\n",
       "      <td>Dec</td>\n",
       "      <td>567</td>\n",
       "    </tr>\n",
       "    <tr>\n",
       "      <th>3</th>\n",
       "      <td>20in Monitor</td>\n",
       "      <td>Feb</td>\n",
       "      <td>245</td>\n",
       "    </tr>\n",
       "    <tr>\n",
       "      <th>4</th>\n",
       "      <td>20in Monitor</td>\n",
       "      <td>Jan</td>\n",
       "      <td>215</td>\n",
       "    </tr>\n",
       "    <tr>\n",
       "      <th>...</th>\n",
       "      <td>...</td>\n",
       "      <td>...</td>\n",
       "      <td>...</td>\n",
       "    </tr>\n",
       "    <tr>\n",
       "      <th>223</th>\n",
       "      <td>iPhone</td>\n",
       "      <td>Mar</td>\n",
       "      <td>537</td>\n",
       "    </tr>\n",
       "    <tr>\n",
       "      <th>224</th>\n",
       "      <td>iPhone</td>\n",
       "      <td>May</td>\n",
       "      <td>640</td>\n",
       "    </tr>\n",
       "    <tr>\n",
       "      <th>225</th>\n",
       "      <td>iPhone</td>\n",
       "      <td>Nov</td>\n",
       "      <td>664</td>\n",
       "    </tr>\n",
       "    <tr>\n",
       "      <th>226</th>\n",
       "      <td>iPhone</td>\n",
       "      <td>Oct</td>\n",
       "      <td>715</td>\n",
       "    </tr>\n",
       "    <tr>\n",
       "      <th>227</th>\n",
       "      <td>iPhone</td>\n",
       "      <td>Sep</td>\n",
       "      <td>396</td>\n",
       "    </tr>\n",
       "  </tbody>\n",
       "</table>\n",
       "<p>228 rows × 3 columns</p>\n",
       "</div>"
      ],
      "text/plain": [
       "          Product Month  count\n",
       "0    20in Monitor   Apr    388\n",
       "1    20in Monitor   Aug    258\n",
       "2    20in Monitor   Dec    567\n",
       "3    20in Monitor   Feb    245\n",
       "4    20in Monitor   Jan    215\n",
       "..            ...   ...    ...\n",
       "223        iPhone   Mar    537\n",
       "224        iPhone   May    640\n",
       "225        iPhone   Nov    664\n",
       "226        iPhone   Oct    715\n",
       "227        iPhone   Sep    396\n",
       "\n",
       "[228 rows x 3 columns]"
      ]
     },
     "execution_count": 29,
     "metadata": {},
     "output_type": "execute_result"
    }
   ],
   "source": [
    "# # Use Series.reset_index() to convert a series into a dataframe object\n",
    "\n",
    "ct_counts = ct_counts.reset_index(name='count')\n",
    "ct_counts"
   ]
  },
  {
   "cell_type": "code",
   "execution_count": 30,
   "metadata": {},
   "outputs": [
    {
     "data": {
      "text/html": [
       "<div>\n",
       "<style scoped>\n",
       "    .dataframe tbody tr th:only-of-type {\n",
       "        vertical-align: middle;\n",
       "    }\n",
       "\n",
       "    .dataframe tbody tr th {\n",
       "        vertical-align: top;\n",
       "    }\n",
       "\n",
       "    .dataframe thead th {\n",
       "        text-align: right;\n",
       "    }\n",
       "</style>\n",
       "<table border=\"1\" class=\"dataframe\">\n",
       "  <thead>\n",
       "    <tr style=\"text-align: right;\">\n",
       "      <th>Month</th>\n",
       "      <th>Apr</th>\n",
       "      <th>Aug</th>\n",
       "      <th>Dec</th>\n",
       "      <th>Feb</th>\n",
       "      <th>Jan</th>\n",
       "      <th>Jul</th>\n",
       "      <th>Jun</th>\n",
       "      <th>Mar</th>\n",
       "      <th>May</th>\n",
       "      <th>Nov</th>\n",
       "      <th>Oct</th>\n",
       "      <th>Sep</th>\n",
       "    </tr>\n",
       "    <tr>\n",
       "      <th>Product</th>\n",
       "      <th></th>\n",
       "      <th></th>\n",
       "      <th></th>\n",
       "      <th></th>\n",
       "      <th></th>\n",
       "      <th></th>\n",
       "      <th></th>\n",
       "      <th></th>\n",
       "      <th></th>\n",
       "      <th></th>\n",
       "      <th></th>\n",
       "      <th></th>\n",
       "    </tr>\n",
       "  </thead>\n",
       "  <tbody>\n",
       "    <tr>\n",
       "      <th>20in Monitor</th>\n",
       "      <td>388</td>\n",
       "      <td>258</td>\n",
       "      <td>567</td>\n",
       "      <td>245</td>\n",
       "      <td>215</td>\n",
       "      <td>324</td>\n",
       "      <td>321</td>\n",
       "      <td>324</td>\n",
       "      <td>338</td>\n",
       "      <td>419</td>\n",
       "      <td>428</td>\n",
       "      <td>274</td>\n",
       "    </tr>\n",
       "    <tr>\n",
       "      <th>27in 4K Gaming Monitor</th>\n",
       "      <td>564</td>\n",
       "      <td>438</td>\n",
       "      <td>863</td>\n",
       "      <td>425</td>\n",
       "      <td>313</td>\n",
       "      <td>483</td>\n",
       "      <td>451</td>\n",
       "      <td>478</td>\n",
       "      <td>541</td>\n",
       "      <td>575</td>\n",
       "      <td>719</td>\n",
       "      <td>380</td>\n",
       "    </tr>\n",
       "    <tr>\n",
       "      <th>27in FHD Monitor</th>\n",
       "      <td>733</td>\n",
       "      <td>485</td>\n",
       "      <td>959</td>\n",
       "      <td>471</td>\n",
       "      <td>421</td>\n",
       "      <td>603</td>\n",
       "      <td>561</td>\n",
       "      <td>606</td>\n",
       "      <td>688</td>\n",
       "      <td>710</td>\n",
       "      <td>790</td>\n",
       "      <td>480</td>\n",
       "    </tr>\n",
       "    <tr>\n",
       "      <th>34in Ultrawide Monitor</th>\n",
       "      <td>651</td>\n",
       "      <td>380</td>\n",
       "      <td>846</td>\n",
       "      <td>416</td>\n",
       "      <td>313</td>\n",
       "      <td>460</td>\n",
       "      <td>454</td>\n",
       "      <td>521</td>\n",
       "      <td>543</td>\n",
       "      <td>549</td>\n",
       "      <td>670</td>\n",
       "      <td>378</td>\n",
       "    </tr>\n",
       "    <tr>\n",
       "      <th>AA Batteries (4-pack)</th>\n",
       "      <td>2063</td>\n",
       "      <td>1357</td>\n",
       "      <td>2721</td>\n",
       "      <td>1276</td>\n",
       "      <td>1038</td>\n",
       "      <td>1556</td>\n",
       "      <td>1543</td>\n",
       "      <td>1674</td>\n",
       "      <td>1822</td>\n",
       "      <td>1971</td>\n",
       "      <td>2241</td>\n",
       "      <td>1315</td>\n",
       "    </tr>\n",
       "    <tr>\n",
       "      <th>AAA Batteries (4-pack)</th>\n",
       "      <td>1991</td>\n",
       "      <td>1341</td>\n",
       "      <td>2831</td>\n",
       "      <td>1321</td>\n",
       "      <td>1084</td>\n",
       "      <td>1558</td>\n",
       "      <td>1452</td>\n",
       "      <td>1647</td>\n",
       "      <td>1892</td>\n",
       "      <td>2003</td>\n",
       "      <td>2239</td>\n",
       "      <td>1282</td>\n",
       "    </tr>\n",
       "    <tr>\n",
       "      <th>Apple Airpods Headphones</th>\n",
       "      <td>1509</td>\n",
       "      <td>999</td>\n",
       "      <td>2056</td>\n",
       "      <td>1010</td>\n",
       "      <td>813</td>\n",
       "      <td>1212</td>\n",
       "      <td>1154</td>\n",
       "      <td>1313</td>\n",
       "      <td>1354</td>\n",
       "      <td>1502</td>\n",
       "      <td>1662</td>\n",
       "      <td>965</td>\n",
       "    </tr>\n",
       "    <tr>\n",
       "      <th>Bose SoundSport Headphones</th>\n",
       "      <td>1279</td>\n",
       "      <td>872</td>\n",
       "      <td>1807</td>\n",
       "      <td>831</td>\n",
       "      <td>659</td>\n",
       "      <td>1051</td>\n",
       "      <td>973</td>\n",
       "      <td>1184</td>\n",
       "      <td>1167</td>\n",
       "      <td>1238</td>\n",
       "      <td>1440</td>\n",
       "      <td>824</td>\n",
       "    </tr>\n",
       "    <tr>\n",
       "      <th>Flatscreen TV</th>\n",
       "      <td>459</td>\n",
       "      <td>331</td>\n",
       "      <td>663</td>\n",
       "      <td>312</td>\n",
       "      <td>244</td>\n",
       "      <td>396</td>\n",
       "      <td>366</td>\n",
       "      <td>359</td>\n",
       "      <td>399</td>\n",
       "      <td>457</td>\n",
       "      <td>523</td>\n",
       "      <td>291</td>\n",
       "    </tr>\n",
       "    <tr>\n",
       "      <th>Google Phone</th>\n",
       "      <td>580</td>\n",
       "      <td>359</td>\n",
       "      <td>714</td>\n",
       "      <td>379</td>\n",
       "      <td>318</td>\n",
       "      <td>411</td>\n",
       "      <td>391</td>\n",
       "      <td>463</td>\n",
       "      <td>479</td>\n",
       "      <td>493</td>\n",
       "      <td>597</td>\n",
       "      <td>341</td>\n",
       "    </tr>\n",
       "    <tr>\n",
       "      <th>LG Dryer</th>\n",
       "      <td>78</td>\n",
       "      <td>46</td>\n",
       "      <td>86</td>\n",
       "      <td>38</td>\n",
       "      <td>39</td>\n",
       "      <td>55</td>\n",
       "      <td>43</td>\n",
       "      <td>49</td>\n",
       "      <td>76</td>\n",
       "      <td>56</td>\n",
       "      <td>50</td>\n",
       "      <td>30</td>\n",
       "    </tr>\n",
       "    <tr>\n",
       "      <th>LG Washing Machine</th>\n",
       "      <td>61</td>\n",
       "      <td>48</td>\n",
       "      <td>80</td>\n",
       "      <td>40</td>\n",
       "      <td>42</td>\n",
       "      <td>52</td>\n",
       "      <td>55</td>\n",
       "      <td>64</td>\n",
       "      <td>64</td>\n",
       "      <td>53</td>\n",
       "      <td>61</td>\n",
       "      <td>46</td>\n",
       "    </tr>\n",
       "    <tr>\n",
       "      <th>Lightning Charging Cable</th>\n",
       "      <td>2203</td>\n",
       "      <td>1357</td>\n",
       "      <td>2893</td>\n",
       "      <td>1395</td>\n",
       "      <td>1071</td>\n",
       "      <td>1695</td>\n",
       "      <td>1564</td>\n",
       "      <td>1753</td>\n",
       "      <td>1930</td>\n",
       "      <td>2047</td>\n",
       "      <td>2422</td>\n",
       "      <td>1328</td>\n",
       "    </tr>\n",
       "    <tr>\n",
       "      <th>Macbook Pro Laptop</th>\n",
       "      <td>452</td>\n",
       "      <td>299</td>\n",
       "      <td>643</td>\n",
       "      <td>276</td>\n",
       "      <td>235</td>\n",
       "      <td>368</td>\n",
       "      <td>355</td>\n",
       "      <td>379</td>\n",
       "      <td>464</td>\n",
       "      <td>440</td>\n",
       "      <td>525</td>\n",
       "      <td>288</td>\n",
       "    </tr>\n",
       "    <tr>\n",
       "      <th>ThinkPad Laptop</th>\n",
       "      <td>390</td>\n",
       "      <td>274</td>\n",
       "      <td>539</td>\n",
       "      <td>275</td>\n",
       "      <td>218</td>\n",
       "      <td>319</td>\n",
       "      <td>314</td>\n",
       "      <td>345</td>\n",
       "      <td>371</td>\n",
       "      <td>374</td>\n",
       "      <td>460</td>\n",
       "      <td>249</td>\n",
       "    </tr>\n",
       "    <tr>\n",
       "      <th>USB-C Charging Cable</th>\n",
       "      <td>2078</td>\n",
       "      <td>1344</td>\n",
       "      <td>2980</td>\n",
       "      <td>1514</td>\n",
       "      <td>1174</td>\n",
       "      <td>1668</td>\n",
       "      <td>1534</td>\n",
       "      <td>1770</td>\n",
       "      <td>1883</td>\n",
       "      <td>2062</td>\n",
       "      <td>2442</td>\n",
       "      <td>1454</td>\n",
       "    </tr>\n",
       "    <tr>\n",
       "      <th>Vareebadd Phone</th>\n",
       "      <td>220</td>\n",
       "      <td>141</td>\n",
       "      <td>284</td>\n",
       "      <td>129</td>\n",
       "      <td>125</td>\n",
       "      <td>146</td>\n",
       "      <td>155</td>\n",
       "      <td>174</td>\n",
       "      <td>185</td>\n",
       "      <td>177</td>\n",
       "      <td>203</td>\n",
       "      <td>126</td>\n",
       "    </tr>\n",
       "    <tr>\n",
       "      <th>Wired Headphones</th>\n",
       "      <td>1889</td>\n",
       "      <td>1193</td>\n",
       "      <td>2546</td>\n",
       "      <td>1183</td>\n",
       "      <td>1006</td>\n",
       "      <td>1435</td>\n",
       "      <td>1335</td>\n",
       "      <td>1513</td>\n",
       "      <td>1730</td>\n",
       "      <td>1783</td>\n",
       "      <td>2095</td>\n",
       "      <td>1174</td>\n",
       "    </tr>\n",
       "    <tr>\n",
       "      <th>iPhone</th>\n",
       "      <td>691</td>\n",
       "      <td>439</td>\n",
       "      <td>906</td>\n",
       "      <td>439</td>\n",
       "      <td>381</td>\n",
       "      <td>501</td>\n",
       "      <td>533</td>\n",
       "      <td>537</td>\n",
       "      <td>640</td>\n",
       "      <td>664</td>\n",
       "      <td>715</td>\n",
       "      <td>396</td>\n",
       "    </tr>\n",
       "  </tbody>\n",
       "</table>\n",
       "</div>"
      ],
      "text/plain": [
       "Month                        Apr   Aug   Dec   Feb   Jan   Jul   Jun   Mar  \\\n",
       "Product                                                                      \n",
       "20in Monitor                 388   258   567   245   215   324   321   324   \n",
       "27in 4K Gaming Monitor       564   438   863   425   313   483   451   478   \n",
       "27in FHD Monitor             733   485   959   471   421   603   561   606   \n",
       "34in Ultrawide Monitor       651   380   846   416   313   460   454   521   \n",
       "AA Batteries (4-pack)       2063  1357  2721  1276  1038  1556  1543  1674   \n",
       "AAA Batteries (4-pack)      1991  1341  2831  1321  1084  1558  1452  1647   \n",
       "Apple Airpods Headphones    1509   999  2056  1010   813  1212  1154  1313   \n",
       "Bose SoundSport Headphones  1279   872  1807   831   659  1051   973  1184   \n",
       "Flatscreen TV                459   331   663   312   244   396   366   359   \n",
       "Google Phone                 580   359   714   379   318   411   391   463   \n",
       "LG Dryer                      78    46    86    38    39    55    43    49   \n",
       "LG Washing Machine            61    48    80    40    42    52    55    64   \n",
       "Lightning Charging Cable    2203  1357  2893  1395  1071  1695  1564  1753   \n",
       "Macbook Pro Laptop           452   299   643   276   235   368   355   379   \n",
       "ThinkPad Laptop              390   274   539   275   218   319   314   345   \n",
       "USB-C Charging Cable        2078  1344  2980  1514  1174  1668  1534  1770   \n",
       "Vareebadd Phone              220   141   284   129   125   146   155   174   \n",
       "Wired Headphones            1889  1193  2546  1183  1006  1435  1335  1513   \n",
       "iPhone                       691   439   906   439   381   501   533   537   \n",
       "\n",
       "Month                        May   Nov   Oct   Sep  \n",
       "Product                                             \n",
       "20in Monitor                 338   419   428   274  \n",
       "27in 4K Gaming Monitor       541   575   719   380  \n",
       "27in FHD Monitor             688   710   790   480  \n",
       "34in Ultrawide Monitor       543   549   670   378  \n",
       "AA Batteries (4-pack)       1822  1971  2241  1315  \n",
       "AAA Batteries (4-pack)      1892  2003  2239  1282  \n",
       "Apple Airpods Headphones    1354  1502  1662   965  \n",
       "Bose SoundSport Headphones  1167  1238  1440   824  \n",
       "Flatscreen TV                399   457   523   291  \n",
       "Google Phone                 479   493   597   341  \n",
       "LG Dryer                      76    56    50    30  \n",
       "LG Washing Machine            64    53    61    46  \n",
       "Lightning Charging Cable    1930  2047  2422  1328  \n",
       "Macbook Pro Laptop           464   440   525   288  \n",
       "ThinkPad Laptop              371   374   460   249  \n",
       "USB-C Charging Cable        1883  2062  2442  1454  \n",
       "Vareebadd Phone              185   177   203   126  \n",
       "Wired Headphones            1730  1783  2095  1174  \n",
       "iPhone                       640   664   715   396  "
      ]
     },
     "execution_count": 30,
     "metadata": {},
     "output_type": "execute_result"
    }
   ],
   "source": [
    "# # Use DataFrame.pivot() to rearrange the data, to have Product on rows\n",
    "\n",
    "ct_counts = ct_counts.pivot(index = 'Product', columns = 'Month', values = 'count')\n",
    "ct_counts"
   ]
  },
  {
   "cell_type": "code",
   "execution_count": 31,
   "metadata": {},
   "outputs": [
    {
     "data": {
      "image/png": "[encoded data removed]",
      "text/plain": [
       "<Figure size 720x432 with 2 Axes>"
      ]
     },
     "metadata": {
      "needs_background": "light"
     },
     "output_type": "display_data"
    }
   ],
   "source": [
    "plt.figure(figsize=(10,6))\n",
    "sb.heatmap(ct_counts);"
   ]
  },
  {
   "cell_type": "markdown",
   "metadata": {},
   "source": [
    "### Observation\n",
    " December saw a lot of products being purchased.\n"
   ]
  },
  {
   "cell_type": "code",
   "execution_count": null,
   "metadata": {},
   "outputs": [],
   "source": []
  },
  {
   "cell_type": "markdown",
   "metadata": {},
   "source": [
    "## Question 7: What time of the day were orders made most?"
   ]
  },
  {
   "cell_type": "code",
   "execution_count": 62,
   "metadata": {},
   "outputs": [
    {
     "data": {
      "image/png": "[encoded data removed]",
      "text/plain": [
       "<Figure size 720x432 with 1 Axes>"
      ]
     },
     "metadata": {},
     "output_type": "display_data"
    }
   ],
   "source": [
    "sorted_counts = df_sales_clean['Hour'].value_counts()\n",
    "\n",
    "plt.figure(figsize=(10,6))\n",
    "plt.pie(sorted_counts, labels = sorted_counts.index, autopct='%1.0f%%', startangle = 90, counterclock = False)\n",
    "plt.title('Order Times')\n",
    "plt.axis('square');"
   ]
  },
  {
   "cell_type": "markdown",
   "metadata": {},
   "source": [
    "### Observation \n",
    "- It is observed that 40% of orders were made in the Evenings/Nights, 30% in the afternoons, 24% in the mornings and 6% at Dawn.\n",
    "- There was also a relative increase in purchase orders as the day went by i.e from Dawn to Evening/Night"
   ]
  },
  {
   "cell_type": "code",
   "execution_count": null,
   "metadata": {},
   "outputs": [],
   "source": []
  },
  {
   "cell_type": "markdown",
   "metadata": {},
   "source": [
    "## Question 8: What is the distribution of orders during the time of day across Month?"
   ]
  },
  {
   "cell_type": "code",
   "execution_count": 47,
   "metadata": {},
   "outputs": [
    {
     "data": {
      "image/png": "[encoded data removed]",
      "text/plain": [
       "<Figure size 1440x720 with 1 Axes>"
      ]
     },
     "metadata": {
      "needs_background": "light"
     },
     "output_type": "display_data"
    }
   ],
   "source": [
    "order = ['Jan','Feb','Mar','Apr','May','Jun','Jul','Aug','Sep','Oct','Nov','Dec']\n",
    "\n",
    "plt.figure(figsize=(20,10))\n",
    "sb.countplot(data = df_sales_clean, x = 'Month', order=order, hue = 'Hour')\n",
    "plt.ylabel('Orders')\n",
    "plt.title('Time of Day vs Month')\n",
    "plt.xticks(rotation=90);"
   ]
  },
  {
   "cell_type": "markdown",
   "metadata": {},
   "source": [
    "### Observation \n",
    "- It is observed from the plot above that a lot more orders were placed in the Evenings/Night all throughout the year"
   ]
  },
  {
   "cell_type": "code",
   "execution_count": null,
   "metadata": {},
   "outputs": [],
   "source": []
  },
  {
   "cell_type": "markdown",
   "metadata": {},
   "source": [
    "## Question 8: What is the distribution of orders during the time of day across Cities?"
   ]
  },
  {
   "cell_type": "code",
   "execution_count": 64,
   "metadata": {},
   "outputs": [
    {
     "data": {
      "image/png": "[encoded data removed]",
      "text/plain": [
       "<Figure size 1440x720 with 1 Axes>"
      ]
     },
     "metadata": {
      "needs_background": "light"
     },
     "output_type": "display_data"
    }
   ],
   "source": [
    "plt.figure(figsize=(20,10))\n",
    "sb.countplot(data = df_sales_clean, x = 'City', hue = 'Hour')\n",
    "plt.ylabel('Orders')\n",
    "plt.title('Time of Day vs Month')\n",
    "plt.xticks(rotation=90);"
   ]
  },
  {
   "cell_type": "markdown",
   "metadata": {},
   "source": [
    "### Observation \n",
    "- It is observed from the plot above that all cities had a lot more orders/purchases placed in the Evenings/Nights."
   ]
  },
  {
   "cell_type": "markdown",
   "metadata": {},
   "source": [
    "## Conclusion"
   ]
  },
  {
   "cell_type": "markdown",
   "metadata": {},
   "source": [
    "<p>In conclusion, San Francisco was the city with the highest orders/purchases compared to the other cities. It was observed that there were a lot of purchases mostly for AAA Batteries (4-pack), AA Batteries (4-pack), USB-C Charging Cable and the Lightning Charging Cable.<p/>\n",
    "<p>All these were mostly purchased during December in the afternoons and evenings/nights. Could this be because of the Christmas festivities during that period? Although San Francisco is not as densely populated as New York and Los Angeles, it still had the most purchases. So what could be the reason for this? Further research yeilded that all cities equally had activities for December. Therefore we conclude generally that the reason for most purchases by all cities in December was because of Christmas festivities. It is assumed that people purchased products to be wrapped as gifts for loved ones.<p/>\n",
    "Again a question is asked \"But why are the most purchased products by San Francisco the least expensive ones?\". Further research revealed that Los Angeles, New York and San Francisco were in the [top 10 most expensive cities in the US][1].  This can be a reason to why the least expensive products were purchased, mostly because one's income might be used to pay for bills and other living expenditures and due to the high cost of living, one might not have enough to spend on pricey items.<p/>\n",
    "<p>However from the analysis, we can note that the outlet's peak period were in the Evenings/Nights since there were alot more orders/purchases during that time of the day.<p/> \n",
    "\n",
    "[1]: https://www.investopedia.com/articles/personal-finance/080916/top-10-most-expensive-cities-us.asp#:~:text=In%20the%20U.S.%2C%20New%20York,the%20world%27s%20most%20expensive%20cities"
   ]
  },
  {
   "cell_type": "markdown",
   "metadata": {},
   "source": []
  }
 ],
 "metadata": {
  "kernelspec": {
   "display_name": "Python 3",
   "language": "python",
   "name": "python3"
  },
  "language_info": {
   "codemirror_mode": {
    "name": "ipython",
    "version": 3
   },
   "file_extension": ".py",
   "mimetype": "text/x-python",
   "name": "python",
   "nbconvert_exporter": "python",
   "pygments_lexer": "ipython3",
   "version": "3.8.5"
  }
 },
 "nbformat": 4,
 "nbformat_minor": 4
}
